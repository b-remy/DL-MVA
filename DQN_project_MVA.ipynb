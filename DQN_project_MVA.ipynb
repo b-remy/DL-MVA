{
  "nbformat": 4,
  "nbformat_minor": 0,
  "metadata": {
    "kernelspec": {
      "display_name": "Python (myenv)",
      "language": "python",
      "name": "myenv"
    },
    "language_info": {
      "codemirror_mode": {
        "name": "ipython",
        "version": 3
      },
      "file_extension": ".py",
      "mimetype": "text/x-python",
      "name": "python",
      "nbconvert_exporter": "python",
      "pygments_lexer": "ipython3",
      "version": "3.6.9"
    },
    "colab": {
      "name": "DQN_project_MVA.ipynb",
      "provenance": [],
      "collapsed_sections": [],
      "include_colab_link": true
    },
    "accelerator": "GPU"
  },
  "cells": [
    {
      "cell_type": "markdown",
      "metadata": {
        "id": "view-in-github",
        "colab_type": "text"
      },
      "source": [
        "<a href=\"https://colab.research.google.com/github/b-remy/DL-MVA/blob/master/DQN_project_MVA.ipynb\" target=\"_parent\"><img src=\"https://colab.research.google.com/assets/colab-badge.svg\" alt=\"Open In Colab\"/></a>"
      ]
    },
    {
      "cell_type": "markdown",
      "metadata": {
        "id": "BMPPELlUtaqv",
        "colab_type": "text"
      },
      "source": [
        "**You may need to install [OpenCV](https://pypi.python.org/pypi/opencv-python) and [scikit-video](http://www.scikit-video.org/stable/).**"
      ]
    },
    {
      "cell_type": "code",
      "metadata": {
        "id": "q0XVQxnttaqy",
        "colab_type": "code",
        "outputId": "4a266b67-d951-47cf-e383-08b4096cd084",
        "colab": {
          "base_uri": "https://localhost:8080/",
          "height": 107
        }
      },
      "source": [
        "#!conda install keras\n",
        "!pip install scikit-video"
      ],
      "execution_count": 1,
      "outputs": [
        {
          "output_type": "stream",
          "text": [
            "Requirement already satisfied: scikit-video in /usr/local/lib/python3.6/dist-packages (1.1.11)\n",
            "Requirement already satisfied: pillow in /usr/local/lib/python3.6/dist-packages (from scikit-video) (6.2.2)\n",
            "Requirement already satisfied: numpy in /usr/local/lib/python3.6/dist-packages (from scikit-video) (1.17.5)\n",
            "Requirement already satisfied: scipy in /usr/local/lib/python3.6/dist-packages (from scikit-video) (1.4.1)\n"
          ],
          "name": "stdout"
        }
      ]
    },
    {
      "cell_type": "code",
      "metadata": {
        "id": "_q7gB_SBtaq2",
        "colab_type": "code",
        "outputId": "3c1b1ae6-2104-4be2-f980-f0a28913e09b",
        "colab": {
          "base_uri": "https://localhost:8080/",
          "height": 97
        }
      },
      "source": [
        "import keras\n",
        "import numpy as np\n",
        "import io\n",
        "import base64\n",
        "from IPython.display import HTML\n",
        "import skvideo.io\n",
        "import cv2\n",
        "import json\n",
        "\n",
        "from keras.models import Sequential,model_from_json\n",
        "from keras.layers.core import Dense\n",
        "from keras.optimizers import sgd\n",
        "from keras.layers import Conv2D, MaxPooling2D, Activation, AveragePooling2D,Reshape,BatchNormalization, Flatten"
      ],
      "execution_count": 2,
      "outputs": [
        {
          "output_type": "stream",
          "text": [
            "Using TensorFlow backend.\n"
          ],
          "name": "stderr"
        },
        {
          "output_type": "display_data",
          "data": {
            "text/html": [
              "<p style=\"color: red;\">\n",
              "The default version of TensorFlow in Colab will soon switch to TensorFlow 2.x.<br>\n",
              "We recommend you <a href=\"https://www.tensorflow.org/guide/migrate\" target=\"_blank\">upgrade</a> now \n",
              "or ensure your notebook will continue to use TensorFlow 1.x via the <code>%tensorflow_version 1.x</code> magic:\n",
              "<a href=\"https://colab.research.google.com/notebooks/tensorflow_version.ipynb\" target=\"_blank\">more info</a>.</p>\n"
            ],
            "text/plain": [
              "<IPython.core.display.HTML object>"
            ]
          },
          "metadata": {
            "tags": []
          }
        }
      ]
    },
    {
      "cell_type": "markdown",
      "metadata": {
        "id": "7iDWvKq7taq6",
        "colab_type": "text"
      },
      "source": [
        "# MiniProject on Deep Reinforcement Learning"
      ]
    },
    {
      "cell_type": "markdown",
      "metadata": {
        "id": "MMbyKasztaq7",
        "colab_type": "text"
      },
      "source": [
        "__Notations__: $E_p$ is the expectation under probability $p$. Please justify each of your answer and widely comment your code."
      ]
    },
    {
      "cell_type": "markdown",
      "metadata": {
        "id": "B3IDOfcytaq8",
        "colab_type": "text"
      },
      "source": [
        "# Context"
      ]
    },
    {
      "cell_type": "markdown",
      "metadata": {
        "id": "tRrXoglktaq9",
        "colab_type": "text"
      },
      "source": [
        "In a reinforcement learning algorithm, we modelize each step $t$ as an action $a_t$ obtained from a state $s_t$, i.e. $\\{(a_{t},s_{t})_{t\\leq T}\\}$ having the Markov property. We consider a discount factor $\\gamma \\in [0,1]$ that ensures convergence. The goal is to find among all the policies $\\pi$, one that maximizes the expected reward:\n",
        "\n",
        "\\begin{equation*}\n",
        "R(\\pi)=\\sum_{t\\leq T}E_{p^{\\pi}}[\\gamma^t r(s_{t},a_{t})] \\> ,\n",
        "\\end{equation*}\n",
        "\n",
        "where: \n",
        "\\begin{equation*}p^{\\pi}(a_{0},a_{1},s_{1},...,a_{T},s_{T})=p(a_{0})\\prod_{t=1}^{T}\\pi(a_{t}|s_{t})p(s_{t+1}|s_{t},a_{t}) \\> .\n",
        "\\end{equation*}\n",
        "\n",
        "We note the $Q$-function:\n",
        "\n",
        "\\begin{equation*}Q^\\pi(s,a)=E_{p^{\\pi}}[\\sum_{t\\leq T}\\gamma^{t}r(s_{t},a_{t})|s_{0}=s,a_{0}=a] \\> .\n",
        "\\end{equation*}\n",
        "\n",
        "Thus, the optimal Q function is:\n",
        "\\begin{equation*}\n",
        "Q^*(s,a)=\\max_{\\pi}Q^\\pi(s,a) \\> .\n",
        "\\end{equation*}\n",
        "\n",
        "In this project, we will apply the deep reinforcement learning techniques to a simple game: an agent will have to learn from scratch a policy that will permit it maximizing a reward."
      ]
    },
    {
      "cell_type": "markdown",
      "metadata": {
        "id": "ai1eZInWtaq-",
        "colab_type": "text"
      },
      "source": [
        "## The environment, the agent and the game"
      ]
    },
    {
      "cell_type": "markdown",
      "metadata": {
        "id": "Xq_hZq-Ytaq_",
        "colab_type": "text"
      },
      "source": [
        "### The environment"
      ]
    },
    {
      "cell_type": "markdown",
      "metadata": {
        "id": "SJjAwAmktarA",
        "colab_type": "text"
      },
      "source": [
        "```Environment``` is an abstract class that represents the states, rewards, and actions to obtain the new state."
      ]
    },
    {
      "cell_type": "code",
      "metadata": {
        "id": "iD2aIulztarB",
        "colab_type": "code",
        "colab": {}
      },
      "source": [
        "class Environment(object):\n",
        "    def __init__(self):\n",
        "        pass\n",
        "\n",
        "    def act(self, act):\n",
        "        \"\"\"\n",
        "        One can act on the environment and obtain its reaction:\n",
        "        - the new state\n",
        "        - the reward of the new state\n",
        "        - should we continue the game?\n",
        "\n",
        "        :return: state, reward, game_over\n",
        "        \"\"\"\n",
        "        pass\n",
        "\n",
        "\n",
        "    def reset(self):\n",
        "        \"\"\"\n",
        "        Reinitialize the environment to a random state and returns\n",
        "        the original state\n",
        "\n",
        "        :return: state\n",
        "        \"\"\"\n",
        "        pass\n",
        "    \n",
        "    def draw(self):\n",
        "        \"\"\"\n",
        "        Visualize in the console or graphically the current state\n",
        "        \"\"\"\n",
        "        pass"
      ],
      "execution_count": 0,
      "outputs": []
    },
    {
      "cell_type": "markdown",
      "metadata": {
        "id": "OrsKmFvitarE",
        "colab_type": "text"
      },
      "source": [
        "The method ```act``` allows to act on the environment at a given state $s_t$ (stored internally), via action $a_t$. The method will return the new state $s_{t+1}$, the reward $r(s_{t},a_{t})$ and determines if $t\\leq T$ (*game_over*).\n",
        "\n",
        "The method ```reset``` simply reinitializes the environment to a random state $s_0$.\n",
        "\n",
        "The method ```draw``` displays the current state $s_t$ (this is useful to check the behavior of the Agent).\n",
        "\n",
        "We modelize $s_t$ as a tensor, while $a_t$ is an integer."
      ]
    },
    {
      "cell_type": "markdown",
      "metadata": {
        "id": "oXlyy224tarF",
        "colab_type": "text"
      },
      "source": [
        "### The Agent"
      ]
    },
    {
      "cell_type": "markdown",
      "metadata": {
        "id": "3V0_hsF4tarG",
        "colab_type": "text"
      },
      "source": [
        "The goal of the ```Agent``` is to interact with the ```Environment``` by proposing actions $a_t$ obtained from a given state $s_t$ to attempt to maximize its __reward__ $r(s_t,a_t)$. We propose the following abstract class:"
      ]
    },
    {
      "cell_type": "code",
      "metadata": {
        "id": "2AJ5rWqjtarH",
        "colab_type": "code",
        "colab": {}
      },
      "source": [
        "class Agent(object):\n",
        "    def __init__(self, epsilon=0.1, n_action=4):\n",
        "        self.epsilon = epsilon\n",
        "        self.n_action = n_action\n",
        "    \n",
        "    def set_epsilon(self,e):\n",
        "        self.epsilon = e\n",
        "\n",
        "    def act(self,s,train=True):\n",
        "        \"\"\" This function should return the next action to do:\n",
        "        an integer between 0 and 4 (not included) with a random exploration of epsilon\"\"\"\n",
        "        if train:\n",
        "            if np.random.rand() <= self.epsilon:\n",
        "                a = np.random.randint(0, self.n_action, size=1)[0]\n",
        "            else:\n",
        "                a = self.learned_act(s)\n",
        "        else: # in some cases, this can improve the performance.. remove it if poor performances\n",
        "            a = self.learned_act(s)\n",
        "\n",
        "        return a\n",
        "\n",
        "    def learned_act(self,s):\n",
        "        \"\"\" Act via the policy of the agent, from a given state s\n",
        "        it proposes an action a\"\"\"\n",
        "        pass\n",
        "\n",
        "    def reinforce(self, s, n_s, a, r, game_over_):\n",
        "        \"\"\" This function is the core of the learning algorithm. \n",
        "        It takes as an input the current state s_, the next state n_s_\n",
        "        the action a_ used to move from s_ to n_s_ and the reward r_.\n",
        "        \n",
        "        Its goal is to learn a policy.\n",
        "        \"\"\"\n",
        "        pass\n",
        "\n",
        "    def save(self):\n",
        "        \"\"\" This function returns basic stats if applicable: the\n",
        "        loss and/or the model\"\"\"\n",
        "        pass\n",
        "\n",
        "    def load(self):\n",
        "        \"\"\" This function allows to restore a model\"\"\"\n",
        "        pass"
      ],
      "execution_count": 0,
      "outputs": []
    },
    {
      "cell_type": "markdown",
      "metadata": {
        "id": "ORpnDhaptarK",
        "colab_type": "text"
      },
      "source": [
        "***\n",
        "__Question 1__:\n",
        "Explain the function act. Why is ```epsilon``` essential?"
      ]
    },
    {
      "cell_type": "markdown",
      "metadata": {
        "id": "bYXjqedVtarK",
        "colab_type": "text"
      },
      "source": [
        "**Answer**\n",
        "\n",
        "The act function return the next action $a_t$ to do being in state $s_t$. Precisely, this function enable more exploration choosing a random action with probability $\\epsilon$, and best action with current policy with probability 1-$\\epsilon$ during training.\n",
        "\n",
        "Thus, the value of $\\epsilon$ is essential. Indeed, setting too big $\\epsilon$, the agent will not benefit of the learned policy during training. Setting it too low, the agent may never explore some action/states."
      ]
    },
    {
      "cell_type": "markdown",
      "metadata": {
        "id": "sY4brMfxtarL",
        "colab_type": "text"
      },
      "source": [
        "***\n",
        "### The Game"
      ]
    },
    {
      "cell_type": "markdown",
      "metadata": {
        "id": "WPhYx5QstarM",
        "colab_type": "text"
      },
      "source": [
        "The ```Agent``` and the ```Environment``` work in an interlaced way as in the following (take some time to understand this code as it is the core of the project)\n",
        "\n",
        "```python\n",
        "\n",
        "epoch = 300\n",
        "env = Environment()\n",
        "agent = Agent()\n",
        "\n",
        "\n",
        "# Number of won games\n",
        "score = 0\n",
        "loss = 0\n",
        "\n",
        "\n",
        "for e in range(epoch):\n",
        "    # At each epoch, we restart to a fresh game and get the initial state\n",
        "    state = env.reset()\n",
        "    # This assumes that the games will end\n",
        "    game_over = False\n",
        "\n",
        "    win = 0\n",
        "    lose = 0\n",
        "    \n",
        "    while not game_over:\n",
        "        # The agent performs an action\n",
        "        action = agent.act(state)\n",
        "\n",
        "        # Apply an action to the environment, get the next state, the reward\n",
        "        # and if the games end\n",
        "        prev_state = state\n",
        "        state, reward, game_over = env.act(action)\n",
        "\n",
        "        # Update the counters\n",
        "        if reward > 0:\n",
        "            win = win + reward\n",
        "        if reward < 0:\n",
        "            lose = lose -reward\n",
        "\n",
        "        # Apply the reinforcement strategy\n",
        "        loss = agent.reinforce(prev_state, state,  action, reward, game_over)\n",
        "\n",
        "    # Save as a mp4\n",
        "    if e % 10 == 0:\n",
        "        env.draw(e)\n",
        "\n",
        "    # Update stats\n",
        "    score += win-lose\n",
        "\n",
        "    print(\"Epoch {:03d}/{:03d} | Loss {:.4f} | Win/lose count {}/{} ({})\"\n",
        "          .format(e, epoch, loss, win, lose, win-lose))\n",
        "    agent.save()\n",
        "```"
      ]
    },
    {
      "cell_type": "markdown",
      "metadata": {
        "id": "qFE9ztX_tarN",
        "colab_type": "text"
      },
      "source": [
        "# The game, *eat cheese*"
      ]
    },
    {
      "cell_type": "markdown",
      "metadata": {
        "id": "hMzSfAq7tarN",
        "colab_type": "text"
      },
      "source": [
        "A rat runs on an island and tries to eat as much as possible. The island is subdivided into $N\\times N$ cells, in which there are cheese (+0.5) and poisonous cells (-1). The rat has a visibility of 2 cells (thus it can see $5^2$ cells). The rat is given a time $T$ to accumulate as much food as possible. It can perform 4 actions: going up, down, left, right. \n",
        "\n",
        "The goal is to code an agent to solve this task that will learn by trial and error. We propose the following environment:"
      ]
    },
    {
      "cell_type": "code",
      "metadata": {
        "id": "0wqyOkWCtarO",
        "colab_type": "code",
        "colab": {}
      },
      "source": [
        "class Environment(object):\n",
        "    def __init__(self, grid_size=10, max_time=500, temperature=0.1):\n",
        "        grid_size = grid_size+4\n",
        "        self.grid_size = grid_size\n",
        "        self.max_time = max_time\n",
        "        self.temperature = temperature\n",
        "\n",
        "        #board on which one plays\n",
        "        self.board = np.zeros((grid_size,grid_size))\n",
        "        self.position = np.zeros((grid_size,grid_size))\n",
        "\n",
        "        # coordinate of the cat\n",
        "        self.x = 0\n",
        "        self.y = 1\n",
        "\n",
        "        # self time\n",
        "        self.t = 0\n",
        "\n",
        "        self.scale=16\n",
        "\n",
        "        self.to_draw = np.zeros((max_time+2, grid_size*self.scale, grid_size*self.scale, 3))\n",
        "\n",
        "\n",
        "    def draw(self,e):\n",
        "        skvideo.io.vwrite(str(e) + '.mp4', self.to_draw)\n",
        "\n",
        "    def get_frame(self,t):\n",
        "        b = np.zeros((self.grid_size,self.grid_size,3))+128\n",
        "        b[self.board>0,0] = 256\n",
        "        b[self.board < 0, 2] = 256\n",
        "        b[self.x,self.y,:]=256\n",
        "        b[-2:,:,:]=0\n",
        "        b[:,-2:,:]=0\n",
        "        b[:2,:,:]=0\n",
        "        b[:,:2,:]=0\n",
        "        \n",
        "        b =  cv2.resize(b, None, fx=self.scale, fy=self.scale, interpolation=cv2.INTER_NEAREST)\n",
        "\n",
        "        self.to_draw[t,:,:,:]=b\n",
        "\n",
        "\n",
        "    def act(self, action):\n",
        "        \"\"\"This function returns the new state, reward and decides if the\n",
        "        game ends.\"\"\"\n",
        "\n",
        "        self.get_frame(int(self.t))\n",
        "\n",
        "        self.position = np.zeros((self.grid_size, self.grid_size))\n",
        "\n",
        "        self.position[0:2,:]= -1\n",
        "        self.position[:,0:2] = -1\n",
        "        self.position[-2:, :] = -1\n",
        "        self.position[-2:, :] = -1\n",
        "\n",
        "        self.position[self.x, self.y] = 1\n",
        "        if action == 0:\n",
        "            if self.x == self.grid_size-3:\n",
        "                self.x = self.x-1\n",
        "            else:\n",
        "                self.x = self.x + 1\n",
        "        elif action == 1:\n",
        "            if self.x == 2:\n",
        "                self.x = self.x+1\n",
        "            else:\n",
        "                self.x = self.x-1\n",
        "        elif action == 2:\n",
        "            if self.y == self.grid_size - 3:\n",
        "                self.y = self.y - 1\n",
        "            else:\n",
        "                self.y = self.y + 1\n",
        "        elif action == 3:\n",
        "            if self.y == 2:\n",
        "                self.y = self.y + 1\n",
        "            else:\n",
        "                self.y = self.y - 1\n",
        "        else:\n",
        "            RuntimeError('Error: action not recognized')\n",
        "\n",
        "        self.t = self.t + 1\n",
        "        reward = self.board[self.x, self.y]\n",
        "        self.board[self.x, self.y] = 0\n",
        "        game_over = self.t > self.max_time\n",
        "        state = np.concatenate((self.board.reshape(self.grid_size, self.grid_size,1),\n",
        "                        self.position.reshape(self.grid_size, self.grid_size,1)),axis=2)\n",
        "        state = state[self.x-2:self.x+3,self.y-2:self.y+3,:]\n",
        "\n",
        "        return state, reward, game_over\n",
        "\n",
        "    def reset(self):\n",
        "        \"\"\"This function resets the game and returns the initial state\"\"\"\n",
        "\n",
        "        self.x = np.random.randint(3, self.grid_size-3, size=1)[0]\n",
        "        self.y = np.random.randint(3, self.grid_size-3, size=1)[0]\n",
        "\n",
        "\n",
        "        bonus = 0.5*np.random.binomial(1,self.temperature,size=self.grid_size**2)\n",
        "        bonus = bonus.reshape(self.grid_size,self.grid_size)\n",
        "\n",
        "        malus = -1.0*np.random.binomial(1,self.temperature,size=self.grid_size**2)\n",
        "        malus = malus.reshape(self.grid_size, self.grid_size)\n",
        "\n",
        "        self.to_draw = np.zeros((self.max_time+2, self.grid_size*self.scale, self.grid_size*self.scale, 3))\n",
        "\n",
        "\n",
        "        malus[bonus>0]=0\n",
        "\n",
        "        self.board = bonus + malus\n",
        "\n",
        "        self.position = np.zeros((self.grid_size, self.grid_size))\n",
        "        self.position[0:2,:]= -1\n",
        "        self.position[:,0:2] = -1\n",
        "        self.position[-2:, :] = -1\n",
        "        self.position[-2:, :] = -1\n",
        "        self.board[self.x,self.y] = 0\n",
        "        self.t = 0\n",
        "\n",
        "        state = np.concatenate((\n",
        "                               self.board.reshape(self.grid_size, self.grid_size,1),\n",
        "                        self.position.reshape(self.grid_size, self.grid_size,1)),axis=2)\n",
        "\n",
        "        state = state[self.x - 2:self.x + 3, self.y - 2:self.y + 3, :]\n",
        "        return state"
      ],
      "execution_count": 0,
      "outputs": []
    },
    {
      "cell_type": "markdown",
      "metadata": {
        "id": "rliHLryCtarR",
        "colab_type": "text"
      },
      "source": [
        "The following elements are important because they correspond to the hyper parameters for this project:"
      ]
    },
    {
      "cell_type": "code",
      "metadata": {
        "id": "nSppwGp4tarS",
        "colab_type": "code",
        "colab": {}
      },
      "source": [
        "# parameters\n",
        "size = 13\n",
        "T=200\n",
        "temperature=0.3\n",
        "epochs_train=10 # set small when debugging\n",
        "epochs_test=10 # set small when debugging\n",
        "\n",
        "# display videos\n",
        "def display_videos(name):\n",
        "    video = io.open(name, 'r+b').read()\n",
        "    encoded = base64.b64encode(video)\n",
        "    return '''<video alt=\"test\" controls>\n",
        "                <source src=\"data:video/mp4;base64,{0}\" type=\"video/mp4\" />\n",
        "             </video>'''.format(encoded.decode('ascii'))"
      ],
      "execution_count": 0,
      "outputs": []
    },
    {
      "cell_type": "markdown",
      "metadata": {
        "id": "fH2A_OMAtarU",
        "colab_type": "text"
      },
      "source": [
        "__Question 2__ Explain the use of the arrays ```position``` and ```board```."
      ]
    },
    {
      "cell_type": "markdown",
      "metadata": {
        "id": "5CUnsFQQtarV",
        "colab_type": "text"
      },
      "source": [
        "**Answer**\n",
        "\n",
        "The ```position``` array aims to retrive the position of the mouse on the grid. It is a 0 array for all position but 1 on the mouse current position and -1 for impossible position.\n",
        "\n",
        "The ```board``` array aims to retrive the state of the board, i.e. what food there is in a cell etc.\n",
        "\n",
        "As explained, the rat has a visibility of 2 cells, then the arrays ```position``` and ```board``` are extended by 4 cells in both direction."
      ]
    },
    {
      "cell_type": "markdown",
      "metadata": {
        "id": "PLroKCJotarW",
        "colab_type": "text"
      },
      "source": [
        "## Random Agent"
      ]
    },
    {
      "cell_type": "markdown",
      "metadata": {
        "id": "Q5t4yTkStarX",
        "colab_type": "text"
      },
      "source": [
        "***\n",
        "__Question 3__ Implement a random Agent (only ```learned_act``` needs to be implemented):"
      ]
    },
    {
      "cell_type": "code",
      "metadata": {
        "id": "P8EZ3Mi2tarY",
        "colab_type": "code",
        "colab": {}
      },
      "source": [
        "class RandomAgent(Agent):\n",
        "    def __init__(self):\n",
        "        super(RandomAgent, self).__init__()\n",
        "        pass\n",
        "\n",
        "    def learned_act(self, s):\n",
        "        return(np.random.randint(0,self.n_action))"
      ],
      "execution_count": 0,
      "outputs": []
    },
    {
      "cell_type": "markdown",
      "metadata": {
        "id": "MjxBNLOGtara",
        "colab_type": "text"
      },
      "source": [
        "***\n",
        "***\n",
        "__Question 4__ Visualize the game moves. You need to fill in the following function for the evaluation:"
      ]
    },
    {
      "cell_type": "code",
      "metadata": {
        "id": "C3uhu_QXtarb",
        "colab_type": "code",
        "colab": {}
      },
      "source": [
        "def test(agent,env,epochs,prefix=''):\n",
        "    # Number of won games\n",
        "    \n",
        "    score = 0\n",
        "    \n",
        "    for e in range(epochs):\n",
        "        ##### FILL IN HERE\n",
        "        \n",
        "        state = env.reset()\n",
        "        # This assumes that the games will end\n",
        "        game_over = False\n",
        "\n",
        "        win = 0\n",
        "        lose = 0\n",
        "\n",
        "        while not game_over:\n",
        "            # The agent performs an action\n",
        "            action = agent.act(state)\n",
        "\n",
        "            # Apply an action to the environment, get the next state, the reward\n",
        "            # and if the games end\n",
        "            prev_state = state\n",
        "            state, reward, game_over = env.act(action)\n",
        "\n",
        "            # Update the counters\n",
        "            if reward > 0:\n",
        "                win = win + reward\n",
        "            if reward < 0:\n",
        "                lose = lose -reward\n",
        "\n",
        "        # Save as a mp4\n",
        "        env.draw(prefix+str(e))\n",
        "\n",
        "        # Update stats\n",
        "        score = score + win-lose\n",
        "\n",
        "        print(\"Win/lose count {}/{}. Average score ({})\"\n",
        "              .format(win, lose, score/(1+e)))\n",
        "    print('Final score: '+str(score/epochs))"
      ],
      "execution_count": 0,
      "outputs": []
    },
    {
      "cell_type": "code",
      "metadata": {
        "id": "cHjLsQuHtare",
        "colab_type": "code",
        "outputId": "3847f1a4-f765-4e96-9fd2-674e95f93ad9",
        "colab": {
          "base_uri": "https://localhost:8080/",
          "height": 487
        }
      },
      "source": [
        "# Initialize the game\n",
        "env = Environment(grid_size=size, max_time=T,temperature=temperature)\n",
        "\n",
        "# Initialize the agent!\n",
        "agent = RandomAgent()\n",
        "\n",
        "test(agent,env,epochs_test,prefix='random')\n",
        "HTML(display_videos('random0.mp4'))"
      ],
      "execution_count": 9,
      "outputs": [
        {
          "output_type": "stream",
          "text": [
            "Win/lose count 12.5/10.0. Average score (2.5)\n",
            "Win/lose count 9.0/10.0. Average score (0.75)\n",
            "Win/lose count 13.0/17.0. Average score (-0.8333333333333334)\n",
            "Win/lose count 10.5/15.0. Average score (-1.75)\n",
            "Win/lose count 11.5/20.0. Average score (-3.1)\n",
            "Win/lose count 12.5/20.0. Average score (-3.8333333333333335)\n",
            "Win/lose count 8.0/8.0. Average score (-3.2857142857142856)\n",
            "Win/lose count 8.0/16.0. Average score (-3.875)\n",
            "Win/lose count 11.5/13.0. Average score (-3.611111111111111)\n",
            "Win/lose count 12.5/10.0. Average score (-3.0)\n",
            "Final score: -3.0\n"
          ],
          "name": "stdout"
        },
        {
          "output_type": "execute_result",
          "data": {
            "text/html": [
              "<video alt=\"test\" controls>\n",
              "                <source src=\"data:video/mp4;base64,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\" type=\"video/mp4\" />\n",
              "             </video>"
            ],
            "text/plain": [
              "<IPython.core.display.HTML object>"
            ]
          },
          "metadata": {
            "tags": []
          },
          "execution_count": 9
        }
      ]
    },
    {
      "cell_type": "markdown",
      "metadata": {
        "id": "cw0vvdxltarg",
        "colab_type": "text"
      },
      "source": [
        "***\n",
        "## DQN"
      ]
    },
    {
      "cell_type": "markdown",
      "metadata": {
        "id": "VnlCieNOtarg",
        "colab_type": "text"
      },
      "source": [
        "Let us assume here that $T=\\infty$.\n",
        "\n",
        "***\n",
        "__Question 5__ Let $\\pi$ be a policy, show that:\n",
        "\n",
        "\\begin{equation*}\n",
        "Q^{\\pi}(s,a)=E_{(s',a')\\sim p(.|s,a)}[r(s,a)+\\gamma Q^{\\pi}(s',a')]\n",
        "\\end{equation*}\n",
        "\n",
        "Then, show that for the optimal policy $\\pi^*$ (we assume its existence), the following holds: \n",
        "\n",
        "\\begin{equation*}\n",
        "Q^{*}(s,a)=E_{s'\\sim \\pi^*(.|s,a)}[r(s,a)+\\gamma\\max_{a'}Q^{*}(s',a')].\n",
        "\\end{equation*}\n",
        "Finally, deduce that a plausible objective is:\n",
        "\n",
        "\\begin{equation*}\n",
        "\\mathcal{L}(\\theta)=E_{s' \\sim \\pi^*(.|s,a)}\\Vert r+\\gamma\\max\\max_{a'}Q(s',a',\\theta)-Q(s,a,\\theta)\\Vert^{2}.\n",
        "\\end{equation*}\n",
        "\n",
        "\n"
      ]
    },
    {
      "cell_type": "markdown",
      "metadata": {
        "id": "qpcH9yiAtarh",
        "colab_type": "text"
      },
      "source": [
        "**Answer**\n",
        "\n",
        "$Q^\\pi(s,a)=E_{p^{\\pi}}[\\sum_{0\\leq t\\leq T}\\gamma^{t}r(s_{t},a_{t})|s_{0}=s,a_{0}=a]$\n",
        "\n",
        "$Q^\\pi(s,a)= r(s,a) + E_{p^{\\pi}}[\\sum_{1\\leq t\\leq T}\\gamma^{t}r(s_{t},\\pi(s_{t}))|s_{0}=s,a_{0}=a]$\n",
        "\n",
        "Using Markov assumption\n",
        "\n",
        "$Q^\\pi(s,a)= r(s,a) + \\gamma \\sum_{s'} P(s_1=s'|s_0=s, a_0=a) E_{p^{\\pi}}[\\sum_{1\\leq t\\leq T}\\gamma^{t-1}r(s_{t},\\pi(s_{t}))|s_{0}=s,a_{0}=a]$\n",
        "\n",
        "MDP and change of time\n",
        "\n",
        "$Q^\\pi(s,a)= r(s,a) + \\gamma \\sum_{s'} P(s'|s, a) E_{p^{\\pi}}[\\sum_{0\\leq t'\\leq T-1}\\gamma^{t'}r(s_{t'},\\pi(s_{t'}))|s_{0'}=s',\\pi]$\n",
        "\n",
        "$Q^\\pi(s,a)= r(s,a) + \\gamma \\sum_{s'} P(s'|s, a) Q^\\pi(s,\\pi(s))$\n",
        "\n",
        "$Q^\\pi(s,a)= r(s,a) + \\gamma E_{(s',a')\\sim p(.|s,a)}[Q^\\pi(s,\\pi(s))]$\n",
        "\n",
        "$$Q^\\pi(s,a)= E_{(s',a')\\sim p(.|s,a)}[r(s,a) + \\gamma Q^\\pi(s,\\pi(s))]$$\n",
        "\n",
        "Then, for the optimal policy $\\pi^*$, $Q^*(s,a) = \\max_\\pi Q^\\pi(s,a)$, i.e.\n",
        "\n",
        "$Q^*(s,a) = \\max_\\pi E_{(s',a')\\sim p(.|s,a)}[r(s,a) + \\gamma Q^\\pi(s,a')]$\n",
        "\n",
        "$Q^*(s,a) = \\max_\\pi E_{\\pi,(s')\\sim p(.|s,a)}[r(s,a) + \\gamma Q^\\pi(s,\\pi(s))]$\n",
        "\n",
        "$Q^*(s,a) =  E_{(s')\\sim p(.|s,a)}[r(s,a) + \\gamma \\max_\\pi Q^\\pi(s,\\pi(s))]$\n",
        "\n",
        "$$Q^*(s,a) =  E_{(s')\\sim p(.|s,a)}[r(s,a) + \\gamma \\max_{a'}Q^*(s',a')]$$\n",
        "\n",
        "Rewritting the equation for the optimal policy as :\n",
        "$E_{(s')\\sim p(.|s,a)}[r(s,a) + \\gamma \\max_{a'}Q^*(s',a') - Q^*(s,a)] = 0$, a plausible objective would be to minimize the norm of the left term, i.e. with some estimated parameter $\\theta$:\n",
        "\n",
        "$$\\mathcal{L}(\\theta)=E_{s' \\sim \\pi^*(.|s,a)}\\Vert r+\\gamma\\max\\max_{a'}Q(s',a',\\theta)-Q(s,a,\\theta)\\Vert^{2}.$$"
      ]
    },
    {
      "cell_type": "markdown",
      "metadata": {
        "id": "QUzA5yaitari",
        "colab_type": "text"
      },
      "source": [
        "***\n",
        "The DQN-learning algorithm relies on these derivations to train the parameters $\\theta$ of a Deep Neural Network:\n",
        "\n",
        "1. At the state $s_t$, select the action $a_t$ with best reward using $Q_t$ and store the results;\n",
        "\n",
        "2. Obtain the new state $s_{t+1}$ from the environment $p$;\n",
        "\n",
        "3. Store $(s_t,a_t,s_{t+1})$;\n",
        "\n",
        "4. Obtain $Q_{t+1}$ by minimizing  $\\mathcal{L}$ from a recovered batch from the previously stored results.\n",
        "\n",
        "***\n",
        "__Question 6__ Implement the class ```Memory``` that stores moves (in a replay buffer) via ```remember``` and provides a ```random_access``` to these. Specify a maximum memory size to avoid side effects. You can for example use a ```list()``` and set by default ```max_memory=100```."
      ]
    },
    {
      "cell_type": "code",
      "metadata": {
        "id": "Ku5KeTxetari",
        "colab_type": "code",
        "colab": {}
      },
      "source": [
        "class Memory(object):\n",
        "    def __init__(self, max_memory=100):\n",
        "        self.max_memory = max_memory\n",
        "        self.memory = list()\n",
        "\n",
        "    def remember(self, m):\n",
        "        if len(self.memory) < self.max_memory:\n",
        "            self.memory.append(m)\n",
        "        else:\n",
        "            self.memory.pop(0)\n",
        "            self.memory.append(m)\n",
        "\n",
        "    def random_access(self):\n",
        "        n = np.random.randint(0, len(self.memory))\n",
        "        return(self.memory[n])"
      ],
      "execution_count": 0,
      "outputs": []
    },
    {
      "cell_type": "markdown",
      "metadata": {
        "id": "yAieTO2_tark",
        "colab_type": "text"
      },
      "source": [
        "***\n",
        "The pipeline we will use for training is given below:"
      ]
    },
    {
      "cell_type": "code",
      "metadata": {
        "id": "muKGhGJ-tarl",
        "colab_type": "code",
        "colab": {}
      },
      "source": [
        "def train(agent,env,epoch,prefix=''):\n",
        "    # Number of won games\n",
        "    score = 0\n",
        "    loss = 0\n",
        "\n",
        "    for e in range(epoch):\n",
        "        # At each epoch, we restart to a fresh game and get the initial state\n",
        "        state = env.reset()\n",
        "        # This assumes that the games will terminate\n",
        "        game_over = False\n",
        "\n",
        "        win = 0\n",
        "        lose = 0\n",
        "\n",
        "        while not game_over:\n",
        "            # The agent performs an action\n",
        "            action = agent.act(state)\n",
        "            #print(action)\n",
        "            # Apply an action to the environment, get the next state, the reward\n",
        "            # and if the games end\n",
        "            prev_state = state\n",
        "            state, reward, game_over = env.act(action)\n",
        "\n",
        "            # Update the counters\n",
        "            if reward > 0:\n",
        "                win = win + reward\n",
        "            if reward < 0:\n",
        "                lose = lose -reward\n",
        "\n",
        "            # Apply the reinforcement strategy\n",
        "            loss = agent.reinforce(prev_state, state,  action, reward, game_over)\n",
        "\n",
        "        # Save as a mp4\n",
        "        if e % 10 == 0:\n",
        "            env.draw(prefix+str(e))\n",
        "\n",
        "        # Update stats\n",
        "        score += win-lose\n",
        "\n",
        "        print(\"Epoch {:03d}/{:03d} | Loss {:.4f} | Win/lose count {}/{} ({})\"\n",
        "              .format(e, epoch, loss, win, lose, win-lose))\n",
        "        agent.save(name_weights=prefix+'model.h5',name_model=prefix+'model.json')"
      ],
      "execution_count": 0,
      "outputs": []
    },
    {
      "cell_type": "markdown",
      "metadata": {
        "id": "xa0o_y4ztaro",
        "colab_type": "text"
      },
      "source": [
        "***\n",
        "__Question 7__ Implement the DQN training algorithm using a cascade of fully connected layers. You can use different learning rate, batch size or memory size parameters. In particular, the loss might oscillate while the player will start to win the games. You have to find a good criterium."
      ]
    },
    {
      "cell_type": "code",
      "metadata": {
        "id": "A1faZvAYtaro",
        "colab_type": "code",
        "colab": {}
      },
      "source": [
        "class DQN(Agent):\n",
        "    def __init__(self, grid_size,  epsilon = 0.1, memory_size=100, batch_size = 16,n_state=2):\n",
        "        super(DQN, self).__init__(epsilon = epsilon)\n",
        "\n",
        "        # Discount for Q learning\n",
        "        self.discount = 0.99\n",
        "        \n",
        "        self.grid_size = grid_size\n",
        "        \n",
        "        # number of state\n",
        "        self.n_state = n_state\n",
        "\n",
        "        # Memory\n",
        "        self.memory = Memory(memory_size)\n",
        "        \n",
        "        # Batch size when learning\n",
        "        self.batch_size = batch_size\n",
        "\n",
        "    def learned_act(self, s):\n",
        "        s = np.expand_dims(s,0)\n",
        "        return(np.argmax(self.model.predict(s)))\n",
        "\n",
        "    def reinforce(self, s_, n_s_, a_, r_, game_over_):\n",
        "        # Two steps: first memorize the states, second learn from the pool\n",
        "\n",
        "        self.memory.remember([s_, n_s_, a_, r_, game_over_])\n",
        "        \n",
        "        input_states = np.zeros((self.batch_size, 5,5,self.n_state))\n",
        "        target_q = np.zeros((self.batch_size, 4))\n",
        "        \n",
        "        for i in range(self.batch_size):\n",
        "            s_, n_s_, a_, r_, game_over_ = self.memory.random_access()\n",
        "            input_states[i] = s_\n",
        "            n_s_ = np.expand_dims(n_s_,0)\n",
        "            values = self.model.predict(n_s_)\n",
        "            #print(i, a_)\n",
        "            if game_over_:\n",
        "                ######## FILL IN\n",
        "                target_q[i, a_] = r_\n",
        "            else:\n",
        "                ######## FILL IN\n",
        "                target_q[i, a_] = r_ + self.discount*np.max(values)\n",
        "        ######## FILL IN\n",
        "\n",
        "        # HINT: Clip the target to avoid exploiding gradients.. -- clipping is a bit tighter\n",
        "        target_q = np.clip(target_q, -3, 3)\n",
        "\n",
        "        #print(input_states.shape)\n",
        "        l = self.model.train_on_batch(input_states, target_q)\n",
        "\n",
        "\n",
        "        return l\n",
        "\n",
        "    def save(self,name_weights='model.h5',name_model='model.json'):\n",
        "        self.model.save_weights(name_weights, overwrite=True)\n",
        "        with open(name_model, \"w\") as outfile:\n",
        "            json.dump(self.model.to_json(), outfile)\n",
        "            \n",
        "    def load(self,name_weights='model.h5',name_model='model.json'):\n",
        "        with open(name_model, \"r\") as jfile:\n",
        "            model = model_from_json(json.load(jfile))\n",
        "        model.load_weights(name_weights)\n",
        "        model.compile(\"sgd\", \"mse\")\n",
        "        self.model = model\n",
        "\n",
        "            \n",
        "class DQN_FC(DQN):\n",
        "    def __init__(self, *args, lr=0.1,**kwargs):\n",
        "        super(DQN_FC, self).__init__( *args,**kwargs)\n",
        "        \n",
        "        # NN Model\n",
        "        \n",
        "        model = Sequential([\n",
        "        keras.layers.Flatten(input_shape=(5,5,self.n_state)),\n",
        "        Dense(32),\n",
        "        Activation('relu'),\n",
        "        Dense(32),\n",
        "        Activation('relu'),\n",
        "        Dense(self.n_action)\n",
        "        ])\n",
        "\n",
        "        model.compile(keras.optimizers.adam(lr=lr), \"mse\")\n",
        "        self.model = model\n",
        "        "
      ],
      "execution_count": 0,
      "outputs": []
    },
    {
      "cell_type": "code",
      "metadata": {
        "id": "DuKp3bhYdgcn",
        "colab_type": "code",
        "colab": {}
      },
      "source": [
        ""
      ],
      "execution_count": 0,
      "outputs": []
    },
    {
      "cell_type": "code",
      "metadata": {
        "id": "0w0R5IAStarq",
        "colab_type": "code",
        "outputId": "3465aa46-7662-48fe-9de9-597441e5a9d2",
        "colab": {
          "base_uri": "https://localhost:8080/",
          "height": 1000
        }
      },
      "source": [
        "\n",
        "env = Environment(grid_size=size, max_time=T, temperature=0.3)\n",
        "agent = DQN_FC(size, lr=.001, epsilon = 0.01, memory_size=2000, batch_size = 32)\n",
        "train(agent, env, 100, prefix='fc_train')\n",
        "HTML(display_videos('fc_train10.mp4'))"
      ],
      "execution_count": 13,
      "outputs": [
        {
          "output_type": "stream",
          "text": [
            "WARNING:tensorflow:From /usr/local/lib/python3.6/dist-packages/keras/backend/tensorflow_backend.py:66: The name tf.get_default_graph is deprecated. Please use tf.compat.v1.get_default_graph instead.\n",
            "\n",
            "WARNING:tensorflow:From /usr/local/lib/python3.6/dist-packages/keras/backend/tensorflow_backend.py:541: The name tf.placeholder is deprecated. Please use tf.compat.v1.placeholder instead.\n",
            "\n",
            "WARNING:tensorflow:From /usr/local/lib/python3.6/dist-packages/keras/backend/tensorflow_backend.py:4432: The name tf.random_uniform is deprecated. Please use tf.random.uniform instead.\n",
            "\n",
            "WARNING:tensorflow:From /usr/local/lib/python3.6/dist-packages/keras/optimizers.py:793: The name tf.train.Optimizer is deprecated. Please use tf.compat.v1.train.Optimizer instead.\n",
            "\n",
            "WARNING:tensorflow:From /usr/local/lib/python3.6/dist-packages/keras/backend/tensorflow_backend.py:3005: The name tf.Session is deprecated. Please use tf.compat.v1.Session instead.\n",
            "\n",
            "WARNING:tensorflow:From /usr/local/lib/python3.6/dist-packages/keras/backend/tensorflow_backend.py:190: The name tf.get_default_session is deprecated. Please use tf.compat.v1.get_default_session instead.\n",
            "\n",
            "WARNING:tensorflow:From /usr/local/lib/python3.6/dist-packages/keras/backend/tensorflow_backend.py:197: The name tf.ConfigProto is deprecated. Please use tf.compat.v1.ConfigProto instead.\n",
            "\n",
            "WARNING:tensorflow:From /usr/local/lib/python3.6/dist-packages/keras/backend/tensorflow_backend.py:207: The name tf.global_variables is deprecated. Please use tf.compat.v1.global_variables instead.\n",
            "\n",
            "WARNING:tensorflow:From /usr/local/lib/python3.6/dist-packages/keras/backend/tensorflow_backend.py:216: The name tf.is_variable_initialized is deprecated. Please use tf.compat.v1.is_variable_initialized instead.\n",
            "\n",
            "WARNING:tensorflow:From /usr/local/lib/python3.6/dist-packages/keras/backend/tensorflow_backend.py:223: The name tf.variables_initializer is deprecated. Please use tf.compat.v1.variables_initializer instead.\n",
            "\n",
            "WARNING:tensorflow:From /usr/local/lib/python3.6/dist-packages/keras/backend/tensorflow_backend.py:1033: The name tf.assign_add is deprecated. Please use tf.compat.v1.assign_add instead.\n",
            "\n",
            "WARNING:tensorflow:From /usr/local/lib/python3.6/dist-packages/keras/backend/tensorflow_backend.py:1020: The name tf.assign is deprecated. Please use tf.compat.v1.assign instead.\n",
            "\n",
            "Epoch 000/100 | Loss 0.0038 | Win/lose count 2.0/4.0 (-2.0)\n",
            "Epoch 001/100 | Loss 0.0054 | Win/lose count 5.0/2.0 (3.0)\n",
            "Epoch 002/100 | Loss 0.0006 | Win/lose count 0/3.0 (-3.0)\n",
            "Epoch 003/100 | Loss 0.0058 | Win/lose count 3.5/6.0 (-2.5)\n",
            "Epoch 004/100 | Loss 0.0002 | Win/lose count 2.0/3.0 (-1.0)\n",
            "Epoch 005/100 | Loss 0.0051 | Win/lose count 4.0/1.0 (3.0)\n",
            "Epoch 006/100 | Loss 0.0092 | Win/lose count 4.0/1.0 (3.0)\n",
            "Epoch 007/100 | Loss 0.0029 | Win/lose count 2.5/0 (2.5)\n",
            "Epoch 008/100 | Loss 0.0084 | Win/lose count 4.0/1.0 (3.0)\n",
            "Epoch 009/100 | Loss 0.0025 | Win/lose count 3.5/3.0 (0.5)\n",
            "Epoch 010/100 | Loss 0.0017 | Win/lose count 6.0/4.0 (2.0)\n",
            "Epoch 011/100 | Loss 0.0084 | Win/lose count 2.0/0 (2.0)\n",
            "Epoch 012/100 | Loss 0.0010 | Win/lose count 3.0/0 (3.0)\n",
            "Epoch 013/100 | Loss 0.0032 | Win/lose count 0.5/0 (0.5)\n",
            "Epoch 014/100 | Loss 0.0063 | Win/lose count 11.0/2.0 (9.0)\n",
            "Epoch 015/100 | Loss 0.0068 | Win/lose count 3.5/1.0 (2.5)\n",
            "Epoch 016/100 | Loss 0.0034 | Win/lose count 5.5/1.0 (4.5)\n",
            "Epoch 017/100 | Loss 0.0021 | Win/lose count 2.0/0 (2.0)\n",
            "Epoch 018/100 | Loss 0.0004 | Win/lose count 1.5/1.0 (0.5)\n",
            "Epoch 019/100 | Loss 0.0007 | Win/lose count 1.5/0 (1.5)\n",
            "Epoch 020/100 | Loss 0.0035 | Win/lose count 2.0/0 (2.0)\n",
            "Epoch 021/100 | Loss 0.0018 | Win/lose count 1.5/0 (1.5)\n",
            "Epoch 022/100 | Loss 0.0025 | Win/lose count 2.5/2.0 (0.5)\n",
            "Epoch 023/100 | Loss 0.0007 | Win/lose count 3.5/3.0 (0.5)\n",
            "Epoch 024/100 | Loss 0.0022 | Win/lose count 5.5/0 (5.5)\n",
            "Epoch 025/100 | Loss 0.0004 | Win/lose count 2.0/1.0 (1.0)\n",
            "Epoch 026/100 | Loss 0.0063 | Win/lose count 8.0/1.0 (7.0)\n",
            "Epoch 027/100 | Loss 0.0009 | Win/lose count 2.5/0 (2.5)\n",
            "Epoch 028/100 | Loss 0.0046 | Win/lose count 0.5/0 (0.5)\n",
            "Epoch 029/100 | Loss 0.0035 | Win/lose count 2.5/1.0 (1.5)\n",
            "Epoch 030/100 | Loss 0.0019 | Win/lose count 6.0/0 (6.0)\n",
            "Epoch 031/100 | Loss 0.0012 | Win/lose count 2.5/2.0 (0.5)\n",
            "Epoch 032/100 | Loss 0.0010 | Win/lose count 3.0/0 (3.0)\n",
            "Epoch 033/100 | Loss 0.0129 | Win/lose count 4.5/0 (4.5)\n",
            "Epoch 034/100 | Loss 0.0022 | Win/lose count 9.0/2.0 (7.0)\n",
            "Epoch 035/100 | Loss 0.0037 | Win/lose count 6.5/1.0 (5.5)\n",
            "Epoch 036/100 | Loss 0.0090 | Win/lose count 4.5/2.0 (2.5)\n",
            "Epoch 037/100 | Loss 0.0327 | Win/lose count 5.0/2.0 (3.0)\n",
            "Epoch 038/100 | Loss 0.0032 | Win/lose count 10.5/0 (10.5)\n",
            "Epoch 039/100 | Loss 0.0004 | Win/lose count 1.0/0 (1.0)\n",
            "Epoch 040/100 | Loss 0.0034 | Win/lose count 2.5/1.0 (1.5)\n",
            "Epoch 041/100 | Loss 0.0065 | Win/lose count 3.0/0 (3.0)\n",
            "Epoch 042/100 | Loss 0.0078 | Win/lose count 4.0/1.0 (3.0)\n",
            "Epoch 043/100 | Loss 0.0030 | Win/lose count 2.5/0 (2.5)\n",
            "Epoch 044/100 | Loss 0.0023 | Win/lose count 4.5/1.0 (3.5)\n",
            "Epoch 045/100 | Loss 0.0005 | Win/lose count 7.5/1.0 (6.5)\n",
            "Epoch 046/100 | Loss 0.0054 | Win/lose count 8.0/2.0 (6.0)\n",
            "Epoch 047/100 | Loss 0.0018 | Win/lose count 5.5/3.0 (2.5)\n",
            "Epoch 048/100 | Loss 0.0079 | Win/lose count 5.0/5.0 (0.0)\n",
            "Epoch 049/100 | Loss 0.0083 | Win/lose count 4.0/2.0 (2.0)\n",
            "Epoch 050/100 | Loss 0.0012 | Win/lose count 5.0/1.0 (4.0)\n",
            "Epoch 051/100 | Loss 0.0051 | Win/lose count 7.5/3.0 (4.5)\n",
            "Epoch 052/100 | Loss 0.0010 | Win/lose count 7.0/3.0 (4.0)\n",
            "Epoch 053/100 | Loss 0.0038 | Win/lose count 3.0/0 (3.0)\n",
            "Epoch 054/100 | Loss 0.0041 | Win/lose count 6.5/1.0 (5.5)\n",
            "Epoch 055/100 | Loss 0.0019 | Win/lose count 3.5/1.0 (2.5)\n",
            "Epoch 056/100 | Loss 0.0012 | Win/lose count 5.0/0 (5.0)\n",
            "Epoch 057/100 | Loss 0.0091 | Win/lose count 4.0/3.0 (1.0)\n",
            "Epoch 058/100 | Loss 0.0011 | Win/lose count 4.5/2.0 (2.5)\n",
            "Epoch 059/100 | Loss 0.0092 | Win/lose count 2.0/1.0 (1.0)\n",
            "Epoch 060/100 | Loss 0.0012 | Win/lose count 2.0/2.0 (0.0)\n",
            "Epoch 061/100 | Loss 0.0011 | Win/lose count 4.0/2.0 (2.0)\n",
            "Epoch 062/100 | Loss 0.0007 | Win/lose count 5.5/0 (5.5)\n",
            "Epoch 063/100 | Loss 0.0078 | Win/lose count 2.0/1.0 (1.0)\n",
            "Epoch 064/100 | Loss 0.0045 | Win/lose count 4.0/0 (4.0)\n",
            "Epoch 065/100 | Loss 0.0100 | Win/lose count 5.0/4.0 (1.0)\n",
            "Epoch 066/100 | Loss 0.0020 | Win/lose count 1.5/1.0 (0.5)\n",
            "Epoch 067/100 | Loss 0.0024 | Win/lose count 2.0/3.0 (-1.0)\n",
            "Epoch 068/100 | Loss 0.0062 | Win/lose count 6.0/2.0 (4.0)\n",
            "Epoch 069/100 | Loss 0.0017 | Win/lose count 4.0/2.0 (2.0)\n",
            "Epoch 070/100 | Loss 0.0018 | Win/lose count 4.5/2.0 (2.5)\n",
            "Epoch 071/100 | Loss 0.0009 | Win/lose count 3.0/0 (3.0)\n",
            "Epoch 072/100 | Loss 0.0039 | Win/lose count 5.0/1.0 (4.0)\n",
            "Epoch 073/100 | Loss 0.0012 | Win/lose count 3.0/1.0 (2.0)\n",
            "Epoch 074/100 | Loss 0.0023 | Win/lose count 3.5/0 (3.5)\n",
            "Epoch 075/100 | Loss 0.0017 | Win/lose count 5.5/2.0 (3.5)\n",
            "Epoch 076/100 | Loss 0.0016 | Win/lose count 9.0/2.0 (7.0)\n",
            "Epoch 077/100 | Loss 0.0157 | Win/lose count 4.5/4.0 (0.5)\n",
            "Epoch 078/100 | Loss 0.0022 | Win/lose count 2.0/1.0 (1.0)\n",
            "Epoch 079/100 | Loss 0.0007 | Win/lose count 2.0/3.0 (-1.0)\n",
            "Epoch 080/100 | Loss 0.0069 | Win/lose count 3.0/2.0 (1.0)\n",
            "Epoch 081/100 | Loss 0.0083 | Win/lose count 5.0/0 (5.0)\n",
            "Epoch 082/100 | Loss 0.0073 | Win/lose count 4.5/2.0 (2.5)\n",
            "Epoch 083/100 | Loss 0.0010 | Win/lose count 3.5/3.0 (0.5)\n",
            "Epoch 084/100 | Loss 0.0046 | Win/lose count 4.0/0 (4.0)\n",
            "Epoch 085/100 | Loss 0.0017 | Win/lose count 0.5/0 (0.5)\n",
            "Epoch 086/100 | Loss 0.0004 | Win/lose count 5.5/1.0 (4.5)\n",
            "Epoch 087/100 | Loss 0.0129 | Win/lose count 4.0/1.0 (3.0)\n",
            "Epoch 088/100 | Loss 0.0052 | Win/lose count 2.5/1.0 (1.5)\n",
            "Epoch 089/100 | Loss 0.0068 | Win/lose count 4.0/2.0 (2.0)\n",
            "Epoch 090/100 | Loss 0.0048 | Win/lose count 3.5/2.0 (1.5)\n",
            "Epoch 091/100 | Loss 0.0012 | Win/lose count 6.5/2.0 (4.5)\n",
            "Epoch 092/100 | Loss 0.0051 | Win/lose count 1.5/1.0 (0.5)\n",
            "Epoch 093/100 | Loss 0.0053 | Win/lose count 2.5/1.0 (1.5)\n",
            "Epoch 094/100 | Loss 0.0007 | Win/lose count 7.5/4.0 (3.5)\n",
            "Epoch 095/100 | Loss 0.0020 | Win/lose count 4.5/0 (4.5)\n",
            "Epoch 096/100 | Loss 0.0061 | Win/lose count 4.0/2.0 (2.0)\n",
            "Epoch 097/100 | Loss 0.0104 | Win/lose count 6.0/2.0 (4.0)\n",
            "Epoch 098/100 | Loss 0.0023 | Win/lose count 4.0/1.0 (3.0)\n",
            "Epoch 099/100 | Loss 0.0009 | Win/lose count 3.0/3.0 (0.0)\n"
          ],
          "name": "stdout"
        },
        {
          "output_type": "execute_result",
          "data": {
            "text/html": [
              "<video alt=\"test\" controls>\n",
              "                <source src=\"data:video/mp4;base64,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\" type=\"video/mp4\" />\n",
              "             </video>"
            ],
            "text/plain": [
              "<IPython.core.display.HTML object>"
            ]
          },
          "metadata": {
            "tags": []
          },
          "execution_count": 13
        }
      ]
    },
    {
      "cell_type": "markdown",
      "metadata": {
        "id": "IGlH5ztstars",
        "colab_type": "text"
      },
      "source": [
        "***\n",
        "***\n",
        "__Question 8__ Implement the DQN training algorithm using a CNN (for example, 2 convolutional layers and one final fully connected layer)."
      ]
    },
    {
      "cell_type": "code",
      "metadata": {
        "id": "DfKtcrCCtart",
        "colab_type": "code",
        "colab": {}
      },
      "source": [
        "class DQN_CNN(DQN):\n",
        "    def __init__(self, *args,lr=0.1,**kwargs):\n",
        "        super(DQN_CNN, self).__init__(*args,**kwargs)\n",
        "        \n",
        "        ###### FILL IN\n",
        "        model = Sequential()\n",
        "        model.add(Conv2D(filters=32,kernel_size=2, input_shape=(5,5,self.n_state)))\n",
        "        model.add(Activation('relu'))\n",
        "        model.add(Conv2D(filters=32,kernel_size=2))\n",
        "        model.add(Activation('relu'))\n",
        "        model.add(Flatten())\n",
        "        model.add(Dense(4))\n",
        "\n",
        "        model.compile(keras.optimizers.adam(lr=lr), \"mse\")\n",
        "        self.model = model"
      ],
      "execution_count": 0,
      "outputs": []
    },
    {
      "cell_type": "code",
      "metadata": {
        "id": "25Bun1Fktarv",
        "colab_type": "code",
        "outputId": "1cd546c0-5d50-4d88-d0bf-c67975f70ddd",
        "colab": {
          "base_uri": "https://localhost:8080/",
          "height": 1000
        }
      },
      "source": [
        "env = Environment(grid_size=size, max_time=T, temperature=0.3)\n",
        "agent = DQN_CNN(size, lr=.001, epsilon = 0.1, memory_size=2000, batch_size = 32)\n",
        "train(agent,env,100,prefix='cnn_train')\n",
        "#HTML(display_videos('cnn_train10.mp4'))"
      ],
      "execution_count": 15,
      "outputs": [
        {
          "output_type": "stream",
          "text": [
            "Epoch 000/100 | Loss 0.0026 | Win/lose count 6.0/5.0 (1.0)\n",
            "Epoch 001/100 | Loss 0.0017 | Win/lose count 3.5/6.0 (-2.5)\n",
            "Epoch 002/100 | Loss 0.0081 | Win/lose count 3.0/1.0 (2.0)\n",
            "Epoch 003/100 | Loss 0.0023 | Win/lose count 2.0/5.0 (-3.0)\n",
            "Epoch 004/100 | Loss 0.0028 | Win/lose count 1.0/5.0 (-4.0)\n",
            "Epoch 005/100 | Loss 0.0087 | Win/lose count 4.0/5.0 (-1.0)\n",
            "Epoch 006/100 | Loss 0.0043 | Win/lose count 6.0/1.0 (5.0)\n",
            "Epoch 007/100 | Loss 0.0046 | Win/lose count 1.5/5.0 (-3.5)\n",
            "Epoch 008/100 | Loss 0.0064 | Win/lose count 7.0/3.0 (4.0)\n",
            "Epoch 009/100 | Loss 0.0039 | Win/lose count 5.0/2.0 (3.0)\n",
            "Epoch 010/100 | Loss 0.0042 | Win/lose count 6.0/3.0 (3.0)\n",
            "Epoch 011/100 | Loss 0.0106 | Win/lose count 6.0/8.0 (-2.0)\n",
            "Epoch 012/100 | Loss 0.0094 | Win/lose count 5.0/7.0 (-2.0)\n",
            "Epoch 013/100 | Loss 0.0045 | Win/lose count 4.5/2.0 (2.5)\n",
            "Epoch 014/100 | Loss 0.0118 | Win/lose count 4.5/3.0 (1.5)\n",
            "Epoch 015/100 | Loss 0.0146 | Win/lose count 7.5/4.0 (3.5)\n",
            "Epoch 016/100 | Loss 0.0054 | Win/lose count 7.5/4.0 (3.5)\n",
            "Epoch 017/100 | Loss 0.0025 | Win/lose count 8.5/5.0 (3.5)\n",
            "Epoch 018/100 | Loss 0.0119 | Win/lose count 5.5/4.0 (1.5)\n",
            "Epoch 019/100 | Loss 0.0033 | Win/lose count 7.5/6.0 (1.5)\n",
            "Epoch 020/100 | Loss 0.0052 | Win/lose count 12.0/5.0 (7.0)\n",
            "Epoch 021/100 | Loss 0.0099 | Win/lose count 9.0/4.0 (5.0)\n",
            "Epoch 022/100 | Loss 0.0333 | Win/lose count 10.5/2.0 (8.5)\n",
            "Epoch 023/100 | Loss 0.0207 | Win/lose count 7.0/1.0 (6.0)\n",
            "Epoch 024/100 | Loss 0.0084 | Win/lose count 3.5/5.0 (-1.5)\n",
            "Epoch 025/100 | Loss 0.0094 | Win/lose count 15.5/7.0 (8.5)\n",
            "Epoch 026/100 | Loss 0.0095 | Win/lose count 11.0/4.0 (7.0)\n",
            "Epoch 027/100 | Loss 0.0081 | Win/lose count 17.0/8.0 (9.0)\n",
            "Epoch 028/100 | Loss 0.0079 | Win/lose count 11.0/4.0 (7.0)\n",
            "Epoch 029/100 | Loss 0.0125 | Win/lose count 10.5/7.0 (3.5)\n",
            "Epoch 030/100 | Loss 0.0102 | Win/lose count 16.5/10.0 (6.5)\n",
            "Epoch 031/100 | Loss 0.0292 | Win/lose count 23.5/5.0 (18.5)\n",
            "Epoch 032/100 | Loss 0.0136 | Win/lose count 22.0/6.0 (16.0)\n",
            "Epoch 033/100 | Loss 0.0183 | Win/lose count 18.5/10.0 (8.5)\n",
            "Epoch 034/100 | Loss 0.0212 | Win/lose count 23.5/11.0 (12.5)\n",
            "Epoch 035/100 | Loss 0.0136 | Win/lose count 7.0/5.0 (2.0)\n",
            "Epoch 036/100 | Loss 0.0166 | Win/lose count 12.5/7.0 (5.5)\n",
            "Epoch 037/100 | Loss 0.0191 | Win/lose count 14.0/6.0 (8.0)\n",
            "Epoch 038/100 | Loss 0.0311 | Win/lose count 18.0/6.0 (12.0)\n",
            "Epoch 039/100 | Loss 0.0293 | Win/lose count 17.5/4.0 (13.5)\n",
            "Epoch 040/100 | Loss 0.0265 | Win/lose count 16.5/5.0 (11.5)\n",
            "Epoch 041/100 | Loss 0.0259 | Win/lose count 28.0/5.0 (23.0)\n",
            "Epoch 042/100 | Loss 0.0437 | Win/lose count 15.5/6.0 (9.5)\n",
            "Epoch 043/100 | Loss 0.0221 | Win/lose count 19.0/5.0 (14.0)\n",
            "Epoch 044/100 | Loss 0.0079 | Win/lose count 6.5/1.0 (5.5)\n",
            "Epoch 045/100 | Loss 0.0493 | Win/lose count 25.0/5.0 (20.0)\n",
            "Epoch 046/100 | Loss 0.0249 | Win/lose count 17.0/7.0 (10.0)\n",
            "Epoch 047/100 | Loss 0.0366 | Win/lose count 22.0/12.0 (10.0)\n",
            "Epoch 048/100 | Loss 0.0293 | Win/lose count 6.5/4.0 (2.5)\n",
            "Epoch 049/100 | Loss 0.0561 | Win/lose count 24.0/8.0 (16.0)\n",
            "Epoch 050/100 | Loss 0.0222 | Win/lose count 23.0/10.0 (13.0)\n",
            "Epoch 051/100 | Loss 0.0389 | Win/lose count 17.0/2.0 (15.0)\n",
            "Epoch 052/100 | Loss 0.0199 | Win/lose count 23.5/5.0 (18.5)\n",
            "Epoch 053/100 | Loss 0.0171 | Win/lose count 29.0/6.0 (23.0)\n",
            "Epoch 054/100 | Loss 0.0208 | Win/lose count 14.5/9.0 (5.5)\n",
            "Epoch 055/100 | Loss 0.0289 | Win/lose count 12.5/3.0 (9.5)\n",
            "Epoch 056/100 | Loss 0.0292 | Win/lose count 11.0/2.0 (9.0)\n",
            "Epoch 057/100 | Loss 0.0182 | Win/lose count 15.0/2.0 (13.0)\n",
            "Epoch 058/100 | Loss 0.0279 | Win/lose count 10.0/5.0 (5.0)\n",
            "Epoch 059/100 | Loss 0.0123 | Win/lose count 8.0/5.0 (3.0)\n",
            "Epoch 060/100 | Loss 0.0276 | Win/lose count 24.0/5.0 (19.0)\n",
            "Epoch 061/100 | Loss 0.0192 | Win/lose count 10.5/3.0 (7.5)\n",
            "Epoch 062/100 | Loss 0.0236 | Win/lose count 20.5/14.0 (6.5)\n",
            "Epoch 063/100 | Loss 0.0279 | Win/lose count 11.5/8.0 (3.5)\n",
            "Epoch 064/100 | Loss 0.0147 | Win/lose count 11.5/3.0 (8.5)\n",
            "Epoch 065/100 | Loss 0.0191 | Win/lose count 15.0/10.0 (5.0)\n",
            "Epoch 066/100 | Loss 0.0248 | Win/lose count 14.5/10.0 (4.5)\n",
            "Epoch 067/100 | Loss 0.0183 | Win/lose count 15.5/2.0 (13.5)\n",
            "Epoch 068/100 | Loss 0.0236 | Win/lose count 16.5/8.0 (8.5)\n",
            "Epoch 069/100 | Loss 0.0204 | Win/lose count 27.0/10.0 (17.0)\n",
            "Epoch 070/100 | Loss 0.0601 | Win/lose count 11.5/4.0 (7.5)\n",
            "Epoch 071/100 | Loss 0.0259 | Win/lose count 22.5/9.0 (13.5)\n",
            "Epoch 072/100 | Loss 0.0242 | Win/lose count 15.5/4.0 (11.5)\n",
            "Epoch 073/100 | Loss 0.0227 | Win/lose count 17.0/4.0 (13.0)\n",
            "Epoch 074/100 | Loss 0.0202 | Win/lose count 17.5/7.0 (10.5)\n",
            "Epoch 075/100 | Loss 0.0240 | Win/lose count 20.5/8.0 (12.5)\n",
            "Epoch 076/100 | Loss 0.0185 | Win/lose count 21.0/6.0 (15.0)\n",
            "Epoch 077/100 | Loss 0.0305 | Win/lose count 20.5/3.0 (17.5)\n",
            "Epoch 078/100 | Loss 0.0447 | Win/lose count 8.0/2.0 (6.0)\n",
            "Epoch 079/100 | Loss 0.0112 | Win/lose count 18.0/2.0 (16.0)\n",
            "Epoch 080/100 | Loss 0.0354 | Win/lose count 18.5/3.0 (15.5)\n",
            "Epoch 081/100 | Loss 0.0293 | Win/lose count 18.0/8.0 (10.0)\n",
            "Epoch 082/100 | Loss 0.0148 | Win/lose count 13.5/4.0 (9.5)\n",
            "Epoch 083/100 | Loss 0.0205 | Win/lose count 19.5/5.0 (14.5)\n",
            "Epoch 084/100 | Loss 0.0453 | Win/lose count 11.5/3.0 (8.5)\n",
            "Epoch 085/100 | Loss 0.0204 | Win/lose count 19.5/11.0 (8.5)\n",
            "Epoch 086/100 | Loss 0.0259 | Win/lose count 18.5/5.0 (13.5)\n",
            "Epoch 087/100 | Loss 0.0133 | Win/lose count 21.5/4.0 (17.5)\n",
            "Epoch 088/100 | Loss 0.0112 | Win/lose count 16.0/3.0 (13.0)\n",
            "Epoch 089/100 | Loss 0.0221 | Win/lose count 6.5/5.0 (1.5)\n",
            "Epoch 090/100 | Loss 0.0217 | Win/lose count 12.0/6.0 (6.0)\n",
            "Epoch 091/100 | Loss 0.0153 | Win/lose count 10.5/9.0 (1.5)\n",
            "Epoch 092/100 | Loss 0.0254 | Win/lose count 5.5/5.0 (0.5)\n",
            "Epoch 093/100 | Loss 0.0183 | Win/lose count 12.0/7.0 (5.0)\n",
            "Epoch 094/100 | Loss 0.0183 | Win/lose count 10.5/3.0 (7.5)\n",
            "Epoch 095/100 | Loss 0.0197 | Win/lose count 15.0/3.0 (12.0)\n",
            "Epoch 096/100 | Loss 0.0272 | Win/lose count 18.0/6.0 (12.0)\n",
            "Epoch 097/100 | Loss 0.0133 | Win/lose count 13.5/3.0 (10.5)\n",
            "Epoch 098/100 | Loss 0.0167 | Win/lose count 7.5/4.0 (3.5)\n",
            "Epoch 099/100 | Loss 0.0150 | Win/lose count 20.5/8.0 (12.5)\n"
          ],
          "name": "stdout"
        }
      ]
    },
    {
      "cell_type": "markdown",
      "metadata": {
        "id": "0nlo2Yfftarx",
        "colab_type": "text"
      },
      "source": [
        "***\n",
        "***\n",
        "__Question 9__ Test both algorithms and compare their performances. Which issue(s) do you observe? Observe also different behaviors by changing the temperature."
      ]
    },
    {
      "cell_type": "markdown",
      "metadata": {
        "id": "bAV5X1SDUEzx",
        "colab_type": "text"
      },
      "source": [
        "We may observe negative scores"
      ]
    },
    {
      "cell_type": "code",
      "metadata": {
        "id": "kzIZPqHrtarx",
        "colab_type": "code",
        "colab": {
          "base_uri": "https://localhost:8080/",
          "height": 443
        },
        "outputId": "739e242b-6c54-4185-a225-14f5418e06c5"
      },
      "source": [
        "env = Environment(grid_size=size, max_time=T,temperature=0.3)\n",
        "agent_cnn = DQN_CNN(size, lr=.1, epsilon = 0.1, memory_size=2000, batch_size = 32)\n",
        "agent_cnn.load(name_weights='cnn_trainmodel.h5',name_model='cnn_trainmodel.json')\n",
        "\n",
        "agent_fc = DQN_FC(size, lr=.1, epsilon = 0.1, memory_size=2000, batch_size = 32)\n",
        "agent_fc.load(name_weights='fc_trainmodel.h5',name_model='fc_trainmodel.json')\n",
        "print('Test of the CNN')\n",
        "test(agent_cnn,env,epochs_test,prefix='cnn_test')\n",
        "print('Test of the FC')\n",
        "test(agent_fc,env,epochs_test,prefix='fc_test')"
      ],
      "execution_count": 16,
      "outputs": [
        {
          "output_type": "stream",
          "text": [
            "Test of the CNN\n",
            "Win/lose count 10.5/3.0. Average score (7.5)\n",
            "Win/lose count 16.0/6.0. Average score (8.75)\n",
            "Win/lose count 15.5/8.0. Average score (8.333333333333334)\n",
            "Win/lose count 22.0/6.0. Average score (10.25)\n",
            "Win/lose count 21.0/3.0. Average score (11.8)\n",
            "Win/lose count 17.0/10.0. Average score (11.0)\n",
            "Win/lose count 14.5/4.0. Average score (10.928571428571429)\n",
            "Win/lose count 3.5/3.0. Average score (9.625)\n",
            "Win/lose count 9.5/4.0. Average score (9.166666666666666)\n",
            "Win/lose count 14.5/6.0. Average score (9.1)\n",
            "Final score: 9.1\n",
            "Test of the FC\n",
            "Win/lose count 9.5/4.0. Average score (5.5)\n",
            "Win/lose count 1.0/0. Average score (3.25)\n",
            "Win/lose count 5.0/1.0. Average score (3.5)\n",
            "Win/lose count 2.5/2.0. Average score (2.75)\n",
            "Win/lose count 4.0/3.0. Average score (2.4)\n",
            "Win/lose count 2.5/0. Average score (2.4166666666666665)\n",
            "Win/lose count 7.0/4.0. Average score (2.5)\n",
            "Win/lose count 4.0/6.0. Average score (1.9375)\n",
            "Win/lose count 4.5/1.0. Average score (2.111111111111111)\n",
            "Win/lose count 2.5/5.0. Average score (1.65)\n",
            "Final score: 1.65\n"
          ],
          "name": "stdout"
        }
      ]
    },
    {
      "cell_type": "code",
      "metadata": {
        "id": "Y9bnYsN_tarz",
        "colab_type": "code",
        "colab": {}
      },
      "source": [
        "#HTML(display_videos('cnn_test10.mp4'))"
      ],
      "execution_count": 0,
      "outputs": []
    },
    {
      "cell_type": "code",
      "metadata": {
        "id": "DIWEp1EQtar1",
        "colab_type": "code",
        "colab": {}
      },
      "source": [
        "#HTML(display_videos('fc_test10.mp4'))"
      ],
      "execution_count": 0,
      "outputs": []
    },
    {
      "cell_type": "markdown",
      "metadata": {
        "id": "3gUcWiXatar3",
        "colab_type": "text"
      },
      "source": [
        ""
      ]
    },
    {
      "cell_type": "markdown",
      "metadata": {
        "id": "wbxiDH0ptar4",
        "colab_type": "text"
      },
      "source": [
        "***\n",
        "\n",
        "The algorithm tends to not explore the map which can be an issue. We propose two ideas in order to encourage exploration:\n",
        "1. Incorporating a decreasing $\\epsilon$-greedy exploration. You can use the method ```set_epsilon```\n",
        "2. Append via the environment a new state that describes if a cell has been visited or not\n",
        "\n",
        "***\n",
        "__Question 10__ Design a new ```train_explore``` function and environment class ```EnvironmentExploring``` to tackle the issue of exploration.\n",
        "\n"
      ]
    },
    {
      "cell_type": "code",
      "metadata": {
        "id": "b-ZvMBvrtar5",
        "colab_type": "code",
        "colab": {
          "base_uri": "https://localhost:8080/",
          "height": 240
        },
        "outputId": "6b050070-f423-440a-ac45-ff70487717ed"
      },
      "source": [
        "def train_explore(agent,env,epoch,prefix=''):\n",
        "    pass\n",
        "        \n",
        "class EnvironmentExploring(object):\n",
        "    def __init__(self, grid_size=10, max_time=500, temperature=0.1):\n",
        "        pass\n",
        "    \n",
        "## use those samples of code:\n",
        "#In train explore:\n",
        "state, reward, game_over = env.act(action, train=True)\n",
        "\n",
        "## In Environment exploring:\n",
        "# You will have to change n_state to 3 because you will use one more layer!\n",
        "reward = 0\n",
        "if train:\n",
        "    reward = -self.malus_position[self.x, self.y]\n",
        "self.malus_position[self.x, self.y] = 0.1\n",
        "\n",
        "reward = reward + self.board[self.x, self.y]\n",
        "# 3 \"feature\" states instead of 2\n",
        "state = np.concatenate((self.malus_position.reshape(self.grid_size, self.grid_size,1),\n",
        "                                self.board.reshape(self.grid_size, self.grid_size,1),\n",
        "                        self.position.reshape(self.grid_size, self.grid_size,1)),axis=2)"
      ],
      "execution_count": 19,
      "outputs": [
        {
          "output_type": "error",
          "ename": "NameError",
          "evalue": "ignored",
          "traceback": [
            "\u001b[0;31m---------------------------------------------------------------------------\u001b[0m",
            "\u001b[0;31mNameError\u001b[0m                                 Traceback (most recent call last)",
            "\u001b[0;32m<ipython-input-19-7e87314b82d9>\u001b[0m in \u001b[0;36m<module>\u001b[0;34m()\u001b[0m\n\u001b[1;32m      8\u001b[0m \u001b[0;31m## use those samples of code:\u001b[0m\u001b[0;34m\u001b[0m\u001b[0;34m\u001b[0m\u001b[0;34m\u001b[0m\u001b[0m\n\u001b[1;32m      9\u001b[0m \u001b[0;31m#In train explore:\u001b[0m\u001b[0;34m\u001b[0m\u001b[0;34m\u001b[0m\u001b[0;34m\u001b[0m\u001b[0m\n\u001b[0;32m---> 10\u001b[0;31m \u001b[0mstate\u001b[0m\u001b[0;34m,\u001b[0m \u001b[0mreward\u001b[0m\u001b[0;34m,\u001b[0m \u001b[0mgame_over\u001b[0m \u001b[0;34m=\u001b[0m \u001b[0menv\u001b[0m\u001b[0;34m.\u001b[0m\u001b[0mact\u001b[0m\u001b[0;34m(\u001b[0m\u001b[0maction\u001b[0m\u001b[0;34m,\u001b[0m \u001b[0mtrain\u001b[0m\u001b[0;34m=\u001b[0m\u001b[0;32mTrue\u001b[0m\u001b[0;34m)\u001b[0m\u001b[0;34m\u001b[0m\u001b[0;34m\u001b[0m\u001b[0m\n\u001b[0m\u001b[1;32m     11\u001b[0m \u001b[0;34m\u001b[0m\u001b[0m\n\u001b[1;32m     12\u001b[0m \u001b[0;31m## In Environment exploring:\u001b[0m\u001b[0;34m\u001b[0m\u001b[0;34m\u001b[0m\u001b[0;34m\u001b[0m\u001b[0m\n",
            "\u001b[0;31mNameError\u001b[0m: name 'action' is not defined"
          ]
        }
      ]
    },
    {
      "cell_type": "code",
      "metadata": {
        "id": "zeaTHedetar7",
        "colab_type": "code",
        "colab": {}
      },
      "source": [
        "# Training\n",
        "env = EnvironmentExploring(grid_size=size, max_time=T, temperature=0.3)\n",
        "agent = DQN_CNN(size, lr=.1, epsilon = 0.1, memory_size=2000, batch_size = 32,n_state=3)\n",
        "train_explore(agent, env, epochs_train, prefix='cnn_train_explore')\n",
        "HTML(display_videos('cnn_train_explore10.mp4'))"
      ],
      "execution_count": 0,
      "outputs": []
    },
    {
      "cell_type": "code",
      "metadata": {
        "id": "hnR7al6Btar9",
        "colab_type": "code",
        "colab": {}
      },
      "source": [
        "# Evaluation\n",
        "test(agent,env,epochs_test,prefix='cnn_test_explore')\n",
        "HTML(display_videos('cnn_test_explore10.mp4'))"
      ],
      "execution_count": 0,
      "outputs": []
    },
    {
      "cell_type": "markdown",
      "metadata": {
        "id": "984JDKnktar_",
        "colab_type": "text"
      },
      "source": [
        "***\n",
        "***\n",
        "__BONUS question__ Use the expert DQN from the previous question to generate some winning games. Train a model that mimicks its behavior. Compare the performances."
      ]
    },
    {
      "cell_type": "markdown",
      "metadata": {
        "id": "F9XsjPlItar_",
        "colab_type": "text"
      },
      "source": [
        ""
      ]
    },
    {
      "cell_type": "markdown",
      "metadata": {
        "id": "OVyrFWe1tasA",
        "colab_type": "text"
      },
      "source": [
        "***"
      ]
    }
  ]
}